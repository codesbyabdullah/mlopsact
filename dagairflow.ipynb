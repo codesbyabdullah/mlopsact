{
 "cells": [
  {
   "cell_type": "code",
   "execution_count": 3,
   "metadata": {},
   "outputs": [
    {
     "data": {
      "text/html": [
       "<pre style=\"white-space:pre;overflow-x:auto;line-height:normal;font-family:Menlo,'DejaVu Sans Mono',consolas,'Courier New',monospace\"><span style=\"color: #808000; text-decoration-color: #808000; font-weight: bold\">C:\\Users\\PMYLS\\AppData\\Local\\Temp\\ipykernel_6824\\</span><span style=\"color: #808000; text-decoration-color: #808000; font-weight: bold\">1974870823.</span><span style=\"color: #808000; text-decoration-color: #808000; font-weight: bold\">py:</span><span style=\"color: #808000; text-decoration-color: #808000; font-weight: bold\">3</span><span style=\"color: #808000; text-decoration-color: #808000; font-weight: bold\"> DeprecationWarning</span><span style=\"color: #808000; text-decoration-color: #808000\">: The `airflow.operators.dummy_operator.DummyOperator` class is deprecated. Please use `</span><span style=\"color: #808000; text-decoration-color: #808000\">'airflow.operators.empty.EmptyOperator'</span><span style=\"color: #808000; text-decoration-color: #808000\">`.</span>\n",
       "</pre>\n"
      ],
      "text/plain": [
       "\u001b[1;33mC:\\Users\\PMYLS\\AppData\\Local\\Temp\\ipykernel_6824\\\u001b[0m\u001b[1;33m1974870823.\u001b[0m\u001b[1;33mpy:\u001b[0m\u001b[1;33m3\u001b[0m\u001b[1;33m DeprecationWarning\u001b[0m\u001b[33m: The `airflow.operators.dummy_operator.DummyOperator` class is deprecated. Please use `\u001b[0m\u001b[33m'airflow.operators.empty.EmptyOperator'\u001b[0m\u001b[33m`.\u001b[0m\n"
      ]
     },
     "metadata": {},
     "output_type": "display_data"
    },
    {
     "data": {
      "text/html": [
       "<pre style=\"white-space:pre;overflow-x:auto;line-height:normal;font-family:Menlo,'DejaVu Sans Mono',consolas,'Courier New',monospace\"><span style=\"color: #808000; text-decoration-color: #808000; font-weight: bold\">C:\\Users\\PMYLS\\AppData\\Local\\Temp\\ipykernel_6824\\</span><span style=\"color: #808000; text-decoration-color: #808000; font-weight: bold\">1974870823.</span><span style=\"color: #808000; text-decoration-color: #808000; font-weight: bold\">py:</span><span style=\"color: #808000; text-decoration-color: #808000; font-weight: bold\">20</span><span style=\"color: #808000; text-decoration-color: #808000; font-weight: bold\"> RemovedInAirflow3Warning</span><span style=\"color: #808000; text-decoration-color: #808000\">: Param `schedule_interval` is deprecated and will be removed in a future release. Please use `schedule` instead.</span>\n",
       "</pre>\n"
      ],
      "text/plain": [
       "\u001b[1;33mC:\\Users\\PMYLS\\AppData\\Local\\Temp\\ipykernel_6824\\\u001b[0m\u001b[1;33m1974870823.\u001b[0m\u001b[1;33mpy:\u001b[0m\u001b[1;33m20\u001b[0m\u001b[1;33m RemovedInAirflow3Warning\u001b[0m\u001b[33m: Param `schedule_interval` is deprecated and will be removed in a future release. Please use `schedule` instead.\u001b[0m\n"
      ]
     },
     "metadata": {},
     "output_type": "display_data"
    },
    {
     "data": {
      "text/plain": [
       "<Task(EmptyOperator): end>"
      ]
     },
     "execution_count": 3,
     "metadata": {},
     "output_type": "execute_result"
    }
   ],
   "source": [
    "from airflow import DAG\n",
    "from airflow.operators.python import PythonOperator\n",
    "from airflow.operators.dummy_operator import DummyOperator\n",
    "from datetime import datetime, timedelta\n",
    "import papermill as pm\n",
    "\n",
    "# Function to run rawdata.ipynb (data collection)\n",
    "def run_rawdata_notebook():\n",
    "    input_notebook = 'D:\\\\livedata\\\\rawdata.ipynb'  # Path to your rawdata.ipynb notebook\n",
    "    output_notebook = 'D:\\\\livedata\\\\rawdata.csv'  # Path where the output of the notebook will be saved\n",
    "    pm.execute_notebook(input_notebook, output_notebook)\n",
    "\n",
    "# Function to run processing.ipynb (data preprocessing)\n",
    "def run_processing_notebook():\n",
    "    input_notebook = 'D:\\\\livedata\\\\processing.ipynb'  # Path to your processing.ipynb notebook\n",
    "    output_notebook = 'D:\\\\livedata\\\\processeddata.csv'  # Path where the output of the notebook will be saved\n",
    "    pm.execute_notebook(input_notebook, output_notebook)\n",
    "\n",
    "# Define the DAG\n",
    "dag = DAG(\n",
    "    'weather_pipeline',  # DAG name\n",
    "    description='Automated pipeline for weather data collection and preprocessing',\n",
    "    schedule_interval=timedelta(hours=1),  # Set your desired schedule (e.g., every hour)\n",
    "    start_date=datetime(2024, 11, 1),  # Starting date for the DAG\n",
    "    catchup=False,  # Do not backfill past missed runs\n",
    ")\n",
    "\n",
    "# Start task (DummyOperator just to indicate start of the pipeline)\n",
    "start_task = DummyOperator(\n",
    "    task_id='start',\n",
    "    dag=dag,\n",
    ")\n",
    "\n",
    "# Task 1: Run rawdata.ipynb (data collection)\n",
    "task1 = PythonOperator(\n",
    "    task_id='run_rawdata_notebook', \n",
    "    python_callable=run_rawdata_notebook, \n",
    "    dag=dag,\n",
    ")\n",
    "\n",
    "# Task 2: Run processing.ipynb (data preprocessing)\n",
    "task2 = PythonOperator(\n",
    "    task_id='run_processing_notebook', \n",
    "    python_callable=run_processing_notebook, \n",
    "    dag=dag,\n",
    ")\n",
    "\n",
    "# End task (DummyOperator just to indicate end of the pipeline)\n",
    "end_task = DummyOperator(\n",
    "    task_id='end',\n",
    "    dag=dag,\n",
    ")\n",
    "\n",
    "# Set the task dependencies\n",
    "start_task >> task1 >> task2 >> end_task  # Task 2 depends on Task 1\n"
   ]
  },
  {
   "cell_type": "code",
   "execution_count": 2,
   "metadata": {},
   "outputs": [
    {
     "name": "stdout",
     "output_type": "stream",
     "text": [
      "Collecting papermill\n",
      "  Downloading papermill-2.6.0-py3-none-any.whl.metadata (13 kB)\n",
      "Requirement already satisfied: click in c:\\users\\pmyls\\appdata\\local\\packages\\pythonsoftwarefoundation.python.3.11_qbz5n2kfra8p0\\localcache\\local-packages\\python311\\site-packages (from papermill) (8.1.7)\n",
      "Requirement already satisfied: pyyaml in c:\\users\\pmyls\\appdata\\local\\packages\\pythonsoftwarefoundation.python.3.11_qbz5n2kfra8p0\\localcache\\local-packages\\python311\\site-packages (from papermill) (6.0.2)\n",
      "Collecting nbformat>=5.2.0 (from papermill)\n",
      "  Downloading nbformat-5.10.4-py3-none-any.whl.metadata (3.6 kB)\n",
      "Collecting nbclient>=0.2.0 (from papermill)\n",
      "  Downloading nbclient-0.10.0-py3-none-any.whl.metadata (7.8 kB)\n",
      "Requirement already satisfied: tqdm>=4.32.2 in c:\\users\\pmyls\\appdata\\local\\packages\\pythonsoftwarefoundation.python.3.11_qbz5n2kfra8p0\\localcache\\local-packages\\python311\\site-packages (from papermill) (4.66.6)\n",
      "Requirement already satisfied: requests in c:\\users\\pmyls\\appdata\\local\\packages\\pythonsoftwarefoundation.python.3.11_qbz5n2kfra8p0\\localcache\\local-packages\\python311\\site-packages (from papermill) (2.32.3)\n",
      "Requirement already satisfied: entrypoints in c:\\users\\pmyls\\appdata\\local\\packages\\pythonsoftwarefoundation.python.3.11_qbz5n2kfra8p0\\localcache\\local-packages\\python311\\site-packages (from papermill) (0.4)\n",
      "Requirement already satisfied: tenacity>=5.0.2 in c:\\users\\pmyls\\appdata\\local\\packages\\pythonsoftwarefoundation.python.3.11_qbz5n2kfra8p0\\localcache\\local-packages\\python311\\site-packages (from papermill) (9.0.0)\n",
      "Collecting ansicolors (from papermill)\n",
      "  Downloading ansicolors-1.1.8-py2.py3-none-any.whl.metadata (9.0 kB)\n",
      "Requirement already satisfied: jupyter-client>=6.1.12 in c:\\users\\pmyls\\appdata\\local\\packages\\pythonsoftwarefoundation.python.3.11_qbz5n2kfra8p0\\localcache\\local-packages\\python311\\site-packages (from nbclient>=0.2.0->papermill) (8.6.2)\n",
      "Requirement already satisfied: jupyter-core!=5.0.*,>=4.12 in c:\\users\\pmyls\\appdata\\local\\packages\\pythonsoftwarefoundation.python.3.11_qbz5n2kfra8p0\\localcache\\local-packages\\python311\\site-packages (from nbclient>=0.2.0->papermill) (5.7.2)\n",
      "Requirement already satisfied: traitlets>=5.4 in c:\\users\\pmyls\\appdata\\local\\packages\\pythonsoftwarefoundation.python.3.11_qbz5n2kfra8p0\\localcache\\local-packages\\python311\\site-packages (from nbclient>=0.2.0->papermill) (5.14.3)\n",
      "Collecting fastjsonschema>=2.15 (from nbformat>=5.2.0->papermill)\n",
      "  Downloading fastjsonschema-2.20.0-py3-none-any.whl.metadata (2.1 kB)\n",
      "Requirement already satisfied: jsonschema>=2.6 in c:\\users\\pmyls\\appdata\\local\\packages\\pythonsoftwarefoundation.python.3.11_qbz5n2kfra8p0\\localcache\\local-packages\\python311\\site-packages (from nbformat>=5.2.0->papermill) (4.23.0)\n",
      "Requirement already satisfied: colorama in c:\\users\\pmyls\\appdata\\local\\packages\\pythonsoftwarefoundation.python.3.11_qbz5n2kfra8p0\\localcache\\local-packages\\python311\\site-packages (from tqdm>=4.32.2->papermill) (0.4.6)\n",
      "Requirement already satisfied: charset-normalizer<4,>=2 in c:\\users\\pmyls\\appdata\\local\\packages\\pythonsoftwarefoundation.python.3.11_qbz5n2kfra8p0\\localcache\\local-packages\\python311\\site-packages (from requests->papermill) (3.4.0)\n",
      "Requirement already satisfied: idna<4,>=2.5 in c:\\users\\pmyls\\appdata\\local\\packages\\pythonsoftwarefoundation.python.3.11_qbz5n2kfra8p0\\localcache\\local-packages\\python311\\site-packages (from requests->papermill) (3.10)\n",
      "Requirement already satisfied: urllib3<3,>=1.21.1 in c:\\users\\pmyls\\appdata\\local\\packages\\pythonsoftwarefoundation.python.3.11_qbz5n2kfra8p0\\localcache\\local-packages\\python311\\site-packages (from requests->papermill) (2.2.3)\n",
      "Requirement already satisfied: certifi>=2017.4.17 in c:\\users\\pmyls\\appdata\\local\\packages\\pythonsoftwarefoundation.python.3.11_qbz5n2kfra8p0\\localcache\\local-packages\\python311\\site-packages (from requests->papermill) (2024.8.30)\n",
      "Requirement already satisfied: attrs>=22.2.0 in c:\\users\\pmyls\\appdata\\local\\packages\\pythonsoftwarefoundation.python.3.11_qbz5n2kfra8p0\\localcache\\local-packages\\python311\\site-packages (from jsonschema>=2.6->nbformat>=5.2.0->papermill) (24.2.0)\n",
      "Requirement already satisfied: jsonschema-specifications>=2023.03.6 in c:\\users\\pmyls\\appdata\\local\\packages\\pythonsoftwarefoundation.python.3.11_qbz5n2kfra8p0\\localcache\\local-packages\\python311\\site-packages (from jsonschema>=2.6->nbformat>=5.2.0->papermill) (2024.10.1)\n",
      "Requirement already satisfied: referencing>=0.28.4 in c:\\users\\pmyls\\appdata\\local\\packages\\pythonsoftwarefoundation.python.3.11_qbz5n2kfra8p0\\localcache\\local-packages\\python311\\site-packages (from jsonschema>=2.6->nbformat>=5.2.0->papermill) (0.35.1)\n",
      "Requirement already satisfied: rpds-py>=0.7.1 in c:\\users\\pmyls\\appdata\\local\\packages\\pythonsoftwarefoundation.python.3.11_qbz5n2kfra8p0\\localcache\\local-packages\\python311\\site-packages (from jsonschema>=2.6->nbformat>=5.2.0->papermill) (0.21.0)\n",
      "Requirement already satisfied: python-dateutil>=2.8.2 in c:\\users\\pmyls\\appdata\\local\\packages\\pythonsoftwarefoundation.python.3.11_qbz5n2kfra8p0\\localcache\\local-packages\\python311\\site-packages (from jupyter-client>=6.1.12->nbclient>=0.2.0->papermill) (2.9.0.post0)\n",
      "Requirement already satisfied: pyzmq>=23.0 in c:\\users\\pmyls\\appdata\\local\\packages\\pythonsoftwarefoundation.python.3.11_qbz5n2kfra8p0\\localcache\\local-packages\\python311\\site-packages (from jupyter-client>=6.1.12->nbclient>=0.2.0->papermill) (26.2.0)\n",
      "Requirement already satisfied: tornado>=6.2 in c:\\users\\pmyls\\appdata\\local\\packages\\pythonsoftwarefoundation.python.3.11_qbz5n2kfra8p0\\localcache\\local-packages\\python311\\site-packages (from jupyter-client>=6.1.12->nbclient>=0.2.0->papermill) (6.4.1)\n",
      "Requirement already satisfied: platformdirs>=2.5 in c:\\users\\pmyls\\appdata\\local\\packages\\pythonsoftwarefoundation.python.3.11_qbz5n2kfra8p0\\localcache\\local-packages\\python311\\site-packages (from jupyter-core!=5.0.*,>=4.12->nbclient>=0.2.0->papermill) (3.11.0)\n",
      "Requirement already satisfied: pywin32>=300 in c:\\users\\pmyls\\appdata\\local\\packages\\pythonsoftwarefoundation.python.3.11_qbz5n2kfra8p0\\localcache\\local-packages\\python311\\site-packages (from jupyter-core!=5.0.*,>=4.12->nbclient>=0.2.0->papermill) (306)\n",
      "Requirement already satisfied: six>=1.5 in c:\\users\\pmyls\\appdata\\local\\packages\\pythonsoftwarefoundation.python.3.11_qbz5n2kfra8p0\\localcache\\local-packages\\python311\\site-packages (from python-dateutil>=2.8.2->jupyter-client>=6.1.12->nbclient>=0.2.0->papermill) (1.16.0)\n",
      "Downloading papermill-2.6.0-py3-none-any.whl (38 kB)\n",
      "Downloading nbclient-0.10.0-py3-none-any.whl (25 kB)\n",
      "Downloading nbformat-5.10.4-py3-none-any.whl (78 kB)\n",
      "   ---------------------------------------- 0.0/78.5 kB ? eta -:--:--\n",
      "   ---------------------------------------- 78.5/78.5 kB 4.3 MB/s eta 0:00:00\n",
      "Downloading ansicolors-1.1.8-py2.py3-none-any.whl (13 kB)\n",
      "Downloading fastjsonschema-2.20.0-py3-none-any.whl (23 kB)\n",
      "Installing collected packages: fastjsonschema, ansicolors, nbformat, nbclient, papermill\n",
      "Successfully installed ansicolors-1.1.8 fastjsonschema-2.20.0 nbclient-0.10.0 nbformat-5.10.4 papermill-2.6.0\n",
      "Note: you may need to restart the kernel to use updated packages.\n"
     ]
    },
    {
     "name": "stderr",
     "output_type": "stream",
     "text": [
      "\n",
      "[notice] A new release of pip is available: 24.0 -> 24.3.1\n",
      "[notice] To update, run: C:\\Users\\PMYLS\\AppData\\Local\\Microsoft\\WindowsApps\\PythonSoftwareFoundation.Python.3.11_qbz5n2kfra8p0\\python.exe -m pip install --upgrade pip\n"
     ]
    }
   ],
   "source": [
    "pip install papermill\n"
   ]
  }
 ],
 "metadata": {
  "kernelspec": {
   "display_name": "Python 3",
   "language": "python",
   "name": "python3"
  },
  "language_info": {
   "codemirror_mode": {
    "name": "ipython",
    "version": 3
   },
   "file_extension": ".py",
   "mimetype": "text/x-python",
   "name": "python",
   "nbconvert_exporter": "python",
   "pygments_lexer": "ipython3",
   "version": "3.11.9"
  }
 },
 "nbformat": 4,
 "nbformat_minor": 2
}
